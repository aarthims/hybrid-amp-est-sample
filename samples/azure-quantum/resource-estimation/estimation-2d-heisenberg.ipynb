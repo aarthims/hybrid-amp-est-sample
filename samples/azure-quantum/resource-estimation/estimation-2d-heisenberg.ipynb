{
  "cells": [
    {
      "cell_type": "markdown",
      "metadata": {
        "nteract": {
          "transient": {
            "deleting": false
          }
        }
      },
      "source": [
        "# Quantum simulation of the 2D Heisenberg Model"
      ]
    },
    {
      "cell_type": "markdown",
      "metadata": {
        "nteract": {
          "transient": {
            "deleting": false
          }
        }
      },
      "source": [
        "In this Python + Q# notebook we demonstrate resource estimation for simulating a Heisenberg model Hamiltonian on an $N \\times N$ 2D\n",
        "lattice using a *fourth-order Trotter Suzuki product formula* assuming a 2D planar qubit architecture with nearest-neighbor connectivity.\n",
        "\n",
        "First, we connect to the Azure quantum service and load the necessary packages."
      ]
    },
    {
      "cell_type": "code",
      "execution_count": null,
      "metadata": {
        "jupyter": {
          "outputs_hidden": false,
          "source_hidden": false
        },
        "nteract": {
          "transient": {
            "deleting": false
          }
        }
      },
      "outputs": [],
      "source": [
        "from azure.quantum import Workspace\n",
        "from azure.quantum.target.microsoft import MicrosoftEstimator, QubitParams, QECScheme\n",
        "import qsharp\n"
      ]
    },
    {
      "cell_type": "code",
      "execution_count": null,
      "metadata": {
        "jupyter": {
          "outputs_hidden": false,
          "source_hidden": false
        },
        "nteract": {
          "transient": {
            "deleting": false
          }
        }
      },
      "outputs": [],
      "source": [
        "workspace = Workspace (\n",
        "   resource_id = \"\",\n",
        "   location = \"\"\n",
        ")"
      ]
    },
    {
      "cell_type": "code",
      "execution_count": null,
      "metadata": {
        "jupyter": {
          "outputs_hidden": false,
          "source_hidden": false
        },
        "nteract": {
          "transient": {
            "deleting": false
          }
        }
      },
      "outputs": [],
      "source": [
        "qsharp.packages.add(\"Microsoft.Quantum.Numerics\")"
      ]
    },
    {
      "cell_type": "markdown",
      "metadata": {
        "nteract": {
          "transient": {
            "deleting": false
          }
        }
      },
      "source": [
        "## Background: 2D Heisenberg Model"
      ]
    },
    {
      "cell_type": "markdown",
      "metadata": {
        "nteract": {
          "transient": {
            "deleting": false
          }
        }
      },
      "source": [
        "The quantum Heisenberg model is a statistical mechanical model used in the study of magnetic systems. The family of Heisenberg model Hamiltonians considered in this notebook consist of three types of interaction terms between adjacent lattice sites: $\\{X \\otimes X, Y \\otimes Y, Z \\otimes Z\\}$. For our purposes we consider that the interaction strength $J$ is the same for each term. Formally, the Heisenberg model Hamiltonian on an $N \\times N$ lattices divided into sets of commuting terms is formulated as:\n",
        "$$ H = \\underbrace{J \\sum_{i, j} X_i \\otimes X_j}_{A} + \\underbrace{J \\sum_{i, j} Z_i \\otimes Z_j}_{B} + \\underbrace{J \\sum_{i, j} Y_i \\otimes Y_j}_{C}.$$\n",
        "\n",
        "TThe time evolution $e^{-iHt}$ for the Hamiltonian is simulated with the fourth-order Trotter-Suzuki product formula so that any errors in simulation are sufficiently small. Essentially, this is done by simulating the evolution for small slices of time $\\Delta$ and repeating this for `nSteps` $= \\lceil t/\\Delta \\rceil$ to obtain the full time evolution. The Trotter-Suzuki formula for higher orders can be recursively defined using a *fractal decomposition* as discussed in Section 3 of [Hatanao and Suziki's survey](https://link.springer.com/chapter/10.1007/11526216_2). Then the fourth order formula $U_4(\\Delta)$ can be constructed using the second-order one $U_2(\\Delta)$ as follows.\n",
        "$$\n",
        "\\begin{aligned}\n",
        "U_2(\\Delta) & = e^{-iA\\Delta/2} e^{-iB\\Delta/2} e^{-iC\\Delta} e^{-iB\\Delta/2} e^{-iA\\Delta/2}; \\\\\n",
        "U_4(\\Delta) & = U_2(p\\Delta)U_2(p\\Delta)U_2((1 - 4p)\\Delta)U_2(p\\Delta)U_2(p\\Delta); \\\\\n",
        "p & = (4 - 4^{1/3})^{-1}.\n",
        "\\end{aligned}\n",
        "$$\n",
        "\n",
        "For the rest of the notebook, we will present the code that computes the time evolution in a step by step fashion."
      ]
    },
    {
      "cell_type": "markdown",
      "metadata": {
        "nteract": {
          "transient": {
            "deleting": false
          }
        }
      },
      "source": [
        "## Implementation\n",
        "\n",
        "### Helper Functions"
      ]
    },
    {
      "cell_type": "markdown",
      "metadata": {
        "nteract": {
          "transient": {
            "deleting": false
          }
        }
      },
      "source": [
        "Note that expanding $U_4(\\Delta)$ to express it in terms of $A, B, C$ gives:\n",
        "$$\n",
        "\\begin{aligned}\n",
        "U_4(\\Delta) & = e^{-iAp\\Delta/2} \\ T_1 \\ T_2 \\ T_1 \\ e^{-iAp\\Delta/2}, \\\\\n",
        "\\text{where } T_1 & = e^{-iBp\\Delta/2} e^{-iCp\\Delta} e^{-iBp\\Delta/2} e^{-iAp\\Delta} e^{-iBp\\Delta/2} e^{-iCp\\Delta} e^{-iBp\\Delta/2}, \\\\\n",
        "\\text{and } T_2 & = e^{-iA(1 - 3p)\\Delta/2} e^{-iB(1-4p)\\Delta/2} e^{-iC(1-4p)\\Delta} e^{-iB(1-4p)\\Delta/2} e^{-iA(1 - 3p)\\Delta/2}.\n",
        "\\end{aligned}\n",
        "$$\n",
        "\n",
        "The above equation has $21$ exponential terms and works for one time step. For `nSteps` $> 1$ time steps, some adjacent terms can be merged to give $20\\lceil t/\\Delta \\rceil+1$ exponential terms for time evolution $e^{-iHt}$.\n",
        "\n",
        "The function below sets the rotation angles used to apply the exponentials involving $A, B$ and $C$ in the formula above."
      ]
    },
    {
      "cell_type": "code",
      "execution_count": null,
      "metadata": {
        "jupyter": {
          "outputs_hidden": false,
          "source_hidden": false
        },
        "microsoft": {
          "language": "qsharp"
        },
        "nteract": {
          "transient": {
            "deleting": false
          }
        }
      },
      "outputs": [],
      "source": [
        "%%qsharp\n",
        "function SetAngleSequence(p : Double, dt : Double, J : Double) : Double[] {\n",
        "\n",
        "    let len1 = 8;\n",
        "    let len2 = 4;\n",
        "    let valLength = 2*len1 + len2;\n",
        "\n",
        "    mutable values = [0.0, size=valLength];\n",
        "\n",
        "    let val1 = -J*p*dt/2.0;\n",
        "    let val2 = -J*(1.0-3.0*p)*dt/2.0;\n",
        "    let val3 = -J*(1.0-4.0*p)*dt/2.0;\n",
        "\n",
        "    // Angles bookending Term2\n",
        "    set values w/= len1 <- val2;\n",
        "    set values w/= len1+len2 <- val2;\n",
        "\n",
        "    for i in 0..len1-1 {\n",
        "        \n",
        "        if (i % 2 == 0) {\n",
        "            set values w/= i <- val1*2.0;\n",
        "        }\n",
        "        else {\n",
        "            set values w/= i <- val1;\n",
        "        }\n",
        "    }\n",
        "\n",
        "    for i in len1+1..len1+len2-1 {\n",
        "        \n",
        "        if (i % 2 == 0) {\n",
        "            set values w/= i <- val3*2.0;\n",
        "        }\n",
        "        else {\n",
        "            set values w/= i <- val3;\n",
        "        }\n",
        "    }\n",
        "\n",
        "    for i in len1+len2+1..valLength-1 {\n",
        "        \n",
        "        if (i % 2 == 0) {\n",
        "            set values w/= i <- val1*2.0;\n",
        "        }\n",
        "        else {\n",
        "            set values w/= i <- val1;\n",
        "        }\n",
        "    }\n",
        "\n",
        "    return values;\n",
        "}"
      ]
    },
    {
      "cell_type": "markdown",
      "metadata": {
        "nteract": {
          "transient": {
            "deleting": false
          }
        }
      },
      "source": [
        "### Quantum operations"
      ]
    },
    {
      "cell_type": "markdown",
      "metadata": {
        "nteract": {
          "transient": {
            "deleting": false
          }
        }
      },
      "source": [
        "There are three kinds of operations applied to neighboring pairs of qubits on the lattice: (i) $e^{-i(X \\otimes X)\\theta}$; (ii) $e^{-i(Z \\otimes Z)\\theta}$; and (iii) $e^{-i(Y \\otimes Y)\\theta}$.\n",
        "\n",
        "The following operation applies $e^{i(P \\otimes P)\\theta}$ for Pauli $P \\in \\{X, Y, Z\\}$ on pairs of horizinontally (resp. vertically) neighboring qubits in a single row of the lattice if `dir` is `True` (resp. `False`). Additionally, the exponential is applied only to pairs where the first qubit id is even (resp. odd) if `grp` is `True` (resp. `False`)."
      ]
    },
    {
      "cell_type": "code",
      "execution_count": null,
      "metadata": {
        "jupyter": {
          "outputs_hidden": false,
          "source_hidden": false
        },
        "microsoft": {
          "language": "qsharp"
        },
        "nteract": {
          "transient": {
            "deleting": false
          }
        }
      },
      "outputs": [],
      "source": [
        "%%qsharp\n",
        "operation ApplyPoPRot(n : Int, m : Int, qArr : Qubit[][], P : Pauli, theta : Double, dir : Bool, grp : Bool) : Unit {\n",
        "\n",
        "    let start = (grp ? 0 | 1);    // Choose either odd or even indices based on group number\n",
        "    let P_op = [P, P];\n",
        "    let jmp = 2;\n",
        "    let end = dir ? m-2 | m-1;\n",
        "    let v_end = dir? n-1 | n-2;\n",
        "\n",
        "    for row in 0..v_end {\n",
        "        for col in start..jmp..end {    // Either odd or even columns are picked based on group number\n",
        "            \n",
        "            let row2 = dir? row | row+1;    // Choose the next row if for vertical direction \n",
        "            let col2 = dir? col+1 | col;    // Choose the next column for horizontal direction\n",
        "\n",
        "            Exp(P_op, theta, [qArr[row][col], qArr[row2][col2]]);\n",
        "        }\n",
        "    }\n",
        "}"
      ]
    },
    {
      "cell_type": "markdown",
      "metadata": {
        "nteract": {
          "transient": {
            "deleting": false
          }
        }
      },
      "source": [
        "The next operation puts everything together and calls the operations needed to\n",
        "simulate the Heisenberg model Hamiltonian using a fourth order product formula.\n",
        "Observe that the `ApplyPoPRot` operation is called four times for each row for different\n",
        "choices of direction and starting index to ensure all possible pairs of qubits\n",
        "are appropriately considered.\n",
        "\n",
        "The various parameters taken in by the operation correspond to:\n",
        "\n",
        "- `N1`, `N2`: row and columns size of the lattice.\n",
        "- `J`: parameter by which the Hamiltonian terms are scaled.\n",
        "- `totTime`: the total time for the Trotter simulation.\n",
        "- `dt` : the step size for the simulation, sometimes denoted as $\\Delta$."
      ]
    },
    {
      "cell_type": "code",
      "execution_count": null,
      "metadata": {
        "jupyter": {
          "outputs_hidden": false,
          "source_hidden": false
        },
        "microsoft": {
          "language": "qsharp"
        },
        "nteract": {
          "transient": {
            "deleting": false
          }
        }
      },
      "outputs": [],
      "source": [
        "%%qsharp\n",
        "open Microsoft.Quantum.Math;\n",
        "open Microsoft.Quantum.Arrays;\n",
        "open Microsoft.Quantum.Convert;\n",
        "\n",
        "operation HeisModel2DSim(N1 : Int, N2 : Int, J : Double, totTime : Double, dt : Double) : Unit {\n",
        "\n",
        "    use qs = Qubit[N1*N2];\n",
        "\n",
        "    let qubitArray = Chunks(N2, qs); // Create a 2D array of qubits\n",
        "\n",
        "    let len = Length(qs);\n",
        "\n",
        "    let p = 1.0/(4.0 - PowD(4.0, 1.0/3.0));\n",
        "\n",
        "    let t = Ceiling(totTime/dt);\n",
        "\n",
        "    let seqLen = 20*t+1;\n",
        "\n",
        "    let angSeq = SetAngleSequence(p, dt, J);\n",
        "\n",
        "    let paulis = [PauliX, PauliZ, PauliY];\n",
        "\n",
        "    for i in 0..seqLen-1 {\n",
        "        \n",
        "        let j = (i%4==0) ? 0 | ( (i%2==1) ? 1 | 2); // Choose which pauli rotation will be applied\n",
        "        let theta = (i==0 or i==seqLen-1) ? -J*p*dt/2.0 | angSeq[i%20]; \n",
        "\n",
        "        for (dir, grp) in [(true, true), (true, false), (false, true), (false, false)] {\n",
        "            ApplyPoPRot(N1, N2, qubitArray, paulis[j], theta, dir, grp);\n",
        "        }\n",
        "    }\n",
        "\n",
        "    //Resetting qubits before release;\n",
        "    ResetAll(qs);\n",
        "}"
      ]
    },
    {
      "cell_type": "markdown",
      "metadata": {
        "nteract": {
          "transient": {
            "deleting": false
          }
        }
      },
      "source": [
        "## Getting logical resource counts\n",
        "\n",
        "For the purpose of generating the rQOPS for some target runtime, it suffices that we obtain the logical resource estimates to simulate the Heisenberg model Hamiltonian. We consider three problem instances with lattice sizes $\\{20 \\times 20, 30 \\times 30, 40 \\times 40\\}$ with $J = 1.0$. These instances are simulated for a total time of $1000$s, with step size `dt`$ = 0.1$, and overall probability of failure $\\varepsilon = 0.01$. Any one of the six pre-defined qubit parameters will do to obtain the logical coounts and in this notebook we choose a Majorana based qubit with the `floquet code`."
      ]
    },
    {
      "cell_type": "code",
      "execution_count": null,
      "metadata": {},
      "outputs": [],
      "source": [
        "estimator = MicrosoftEstimator(workspace)\n",
        "\n",
        "labels = [\"Hei-20\", \"Hei-30\", \"Hei-40\"]\n",
        "\n",
        "params = estimator.make_params(num_items=3)\n",
        "params.items[0].arguments[\"N1\"] = 20\n",
        "params.items[0].arguments[\"N2\"] = 20\n",
        "params.items[1].arguments[\"N1\"] = 30\n",
        "params.items[1].arguments[\"N2\"] = 30\n",
        "params.items[2].arguments[\"N1\"] = 40\n",
        "params.items[2].arguments[\"N2\"] = 40\n",
        "params.arguments[\"totTime\"] = 1000.0\n",
        "params.arguments[\"J\"] = 1.0\n",
        "params.arguments[\"g\"] = 1.0\n",
        "params.arguments[\"dt\"] = 0.1\n",
        "params.error_budget = 0.01\n",
        "params.qubit_params.name = QubitParams.MAJ_NS_E4\n",
        "params.qec_scheme.name = QECScheme.FLOQUET_CODE\n",
        "params.constraints.logical_depth_factor=4"
      ]
    },
    {
      "cell_type": "markdown",
      "metadata": {
        "nteract": {
          "transient": {
            "deleting": false
          }
        }
      },
      "source": [
        "We submit a resource estimation job with all the problem instances simultaneously."
      ]
    },
    {
      "cell_type": "code",
      "execution_count": null,
      "metadata": {
        "jupyter": {
          "outputs_hidden": false,
          "source_hidden": false
        },
        "nteract": {
          "transient": {
            "deleting": false
          }
        }
      },
      "outputs": [],
      "source": [
        "job = estimator.submit(HeisModel2DSim, input_params=params)\n",
        "results = job.get_results()"
      ]
    },
    {
      "cell_type": "markdown",
      "metadata": {
        "nteract": {
          "transient": {
            "deleting": false
          }
        }
      },
      "source": [
        "## Visualizing and understanding the results\n",
        "\n",
        "### Result summary table"
      ]
    },
    {
      "cell_type": "code",
      "execution_count": null,
      "metadata": {
        "jupyter": {
          "outputs_hidden": false,
          "source_hidden": false
        },
        "nteract": {
          "transient": {
            "deleting": false
          }
        }
      },
      "outputs": [],
      "source": [
        "results.summary_data_frame(labels=labels)"
      ]
    },
    {
      "cell_type": "markdown",
      "metadata": {},
      "source": [
        "While the above table provides the logical qubits and depth that are needed to compute the target rQOPS, we use the full set of results to also get the required logical qubit error rate."
      ]
    },
    {
      "cell_type": "code",
      "execution_count": null,
      "metadata": {},
      "outputs": [],
      "source": [
        "results[0:3]"
      ]
    },
    {
      "cell_type": "markdown",
      "metadata": {},
      "source": [
        "> Note that in general, there is a trade-off between the logical depth and number of T factories used. \n",
        "\n",
        "> To ensure that T factories do not dominate the resource requirements, we set the `logical_depth_factor`${}=4$ adding some number of `noops` to increase the logical depth."
      ]
    },
    {
      "cell_type": "markdown",
      "metadata": {
        "nteract": {
          "transient": {
            "deleting": false
          }
        }
      },
      "source": [
        "## Next steps\n",
        "\n",
        "Feel free to use this notebook as a starting point for your own experiments.  For\n",
        "example, you can\n",
        "\n",
        "* explore how the results change considering other problem instances of the Heisenberg model\n",
        "* explore space- and time-trade-offs by changing the value for\n",
        "  `logical_depth_factor` or `max_t_factories`\n",
        "* visualize these trade-offs with the space and time diagrams\n",
        "* use other or customized qubit parameters"
      ]
    },
    {
      "cell_type": "code",
      "execution_count": null,
      "metadata": {
        "jupyter": {
          "outputs_hidden": false,
          "source_hidden": false
        },
        "nteract": {
          "transient": {
            "deleting": false
          }
        }
      },
      "outputs": [],
      "source": []
    }
  ],
  "metadata": {
    "kernel_info": {
      "name": "python3"
    },
    "kernelspec": {
      "display_name": "Python 3 (ipykernel)",
      "language": "python",
      "name": "python3"
    },
    "language_info": {
      "codemirror_mode": {
        "name": "ipython",
        "version": 3
      },
      "file_extension": ".py",
      "mimetype": "text/x-python",
      "name": "python",
      "nbconvert_exporter": "python",
      "pygments_lexer": "ipython3",
      "version": "3.10.12"
    },
    "nteract": {
      "version": "nteract-front-end@1.0.0"
    }
  },
  "nbformat": 4,
  "nbformat_minor": 0
}
