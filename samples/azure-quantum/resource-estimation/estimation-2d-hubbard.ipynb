{
  "cells": [
    {
      "cell_type": "markdown",
      "metadata": {
        "nteract": {
          "transient": {
            "deleting": false
          }
        }
      },
      "source": [
        "# Quantum Simulation of the 2D Hubbard model"
      ]
    },
    {
      "cell_type": "markdown",
      "metadata": {
        "nteract": {
          "transient": {
            "deleting": false
          }
        }
      },
      "source": [
        "In this Python + Q# notebook we demonstrate resource estimation for simulating a Hubbard model Hamiltonian on an $N \\times N$ 2D\n",
        "lattice using a *fourth-order Trotter Suzuki product formula* assuming a 2D planar qubit architecture with nearest-neighbor connectivity.\n",
        "\n",
        "First, we connect to the Azure quantum service and load the necessary packages."
      ]
    },
    {
      "cell_type": "code",
      "execution_count": null,
      "metadata": {
        "jupyter": {
          "outputs_hidden": false,
          "source_hidden": false
        },
        "nteract": {
          "transient": {
            "deleting": false
          }
        }
      },
      "outputs": [],
      "source": [
        "from azure.quantum import Workspace\n",
        "from azure.quantum.target.microsoft import MicrosoftEstimator, QubitParams, QECScheme\n",
        "import qsharp\n"
      ]
    },
    {
      "cell_type": "code",
      "execution_count": null,
      "metadata": {
        "jupyter": {
          "outputs_hidden": false,
          "source_hidden": false
        },
        "nteract": {
          "transient": {
            "deleting": false
          }
        }
      },
      "outputs": [],
      "source": [
        "workspace = Workspace (\n",
        "   resource_id = \"\",\n",
        "   location = \"\"\n",
        ")\n"
      ]
    },
    {
      "cell_type": "code",
      "execution_count": null,
      "metadata": {
        "jupyter": {
          "outputs_hidden": false,
          "source_hidden": false
        },
        "nteract": {
          "transient": {
            "deleting": false
          }
        }
      },
      "outputs": [],
      "source": [
        "qsharp.packages.add(\"Microsoft.Quantum.Numerics\")"
      ]
    },
    {
      "cell_type": "markdown",
      "metadata": {
        "nteract": {
          "transient": {
            "deleting": false
          }
        }
      },
      "source": [
        "## Background: 2D Hubbard Model"
      ]
    },
    {
      "cell_type": "markdown",
      "metadata": {
        "nteract": {
          "transient": {
            "deleting": false
          }
        }
      },
      "source": [
        "The Hubbard Model is a simple model of interacting particles in a lattice (in our case a 2D square lattice) with two kinds of terms in the Hamiltonian: (i) a hopping term between adjacent sites and (ii) a potential term for onsite interactions.\n",
        "Formally, a Hubbard model Hamiltonian on an $N \\times N$ lattice where each site has two spins {up, dn} is given as:\n",
        "\n",
        "$$\n",
        "H = \\underbrace{U \\sum_{i,j} c^{\\dagger}_{(i, j), \\text{up}} c_{(i, j), \\text{up}}  c^{\\dagger}_{(i, j), \\text{dn}} c_{(i, j), \\text{dn}}}_{B} - \\underbrace{t \\sum_{\\sigma \\in \\{ \\text{up}, \\text{dn}\\} , i, j} ( c^\\dag_{(i,j),\\sigma} c_{(i+1,j),\\sigma} + c^\\dag_{(i+1,j),\\sigma} c_{(i,j),\\sigma})}_{A} - \\underbrace{t \\sum_{\\sigma \\in \\{ \\text{up}, \\text{dn}\\} , i, j} ( c^\\dag_{(i,j),\\sigma} c_{(i,j+1),\\sigma} + c^\\dag_{(i,j+1),\\sigma} c_{(i,j),\\sigma})}_{C}\n",
        "$$\n",
        "where $c$ is the annihilation operator, $c^\\dag$ is the creation operator, the first set of terms are the on-site repulsion terms, the second set are the vertical row hops and last set is the horizontal column hops."
      ]
    },
    {
      "cell_type": "markdown",
      "metadata": {
        "nteract": {
          "transient": {
            "deleting": false
          }
        }
      },
      "source": [
        "### Converting to Pauli terms\n",
        "\n",
        "The first step needed to simulate $H$ is to map the fermionic terms into *local* Pauli operations involving only a few qubits. When the Hamiltoinan acts on a 1D lattice, using the Jordan-Wigner would suffice. However, for the 2D lattice, either row or column hops will end up being non-local terms involving $O(N)$ qubits.\n",
        "To overcome this, we use the [Verstraete-Cirac](http://arxiv.org/abs/cond-mat/0508353v3) encoding to convert the repulsion and hopping terms into local Pauli operators involving at most 4 qubits at a time. This is done by adding one auxiliary qubit for each spin type in each lattice site such that the $N^2$ lattice sites are mapped to $4 N^2$ qubits. Specifically, each lattice site $m$ maps to the qubits $\\{u_m, d_m, \\tilde{u}_m \\tilde{d}_m\\}$ where the first two qubits correspond to the up and down spin types and the latter two to the corresponding auxiliary qubits.\n",
        "\n",
        "This converts the terms as follows:\n",
        "$$\n",
        "\\text{Repulsion Terms:} \\qquad   c^{\\dagger}_{(i, j), \\text{up}} c_{(i, j), \\text{up}}  c^{\\dagger}_{(i, j), \\text{dn}} c_{(i, j), \\text{dn}} \\mapsto \\frac{1}{4} \\left(\\mathbb{I} - Z_{(i,j), \\text{up}} - Z_{(i,j), \\text{dn}} + Z_{(i,j), \\text{up}} \\otimes Z_{(i,j), \\text{dn}}\\right)\n",
        "$$\n",
        "$$\n",
        "\\text{Horizontal Hopping Terms:} \\qquad c^\\dag_{(i,j),\\sigma} c_{(i,j+1),\\sigma} + c^\\dag_{(i,j+1),\\sigma} c_{(i,j),\\sigma} \\mapsto \\frac{1}{2} \\left(X_{(i,j),\\sigma} X_{(i,j+1),\\sigma} + Y_{(i,j),\\sigma} Y_{(i,j+1),\\sigma} \\right) \\tilde{Z}_{(i,j),\\sigma}\n",
        "$$\n",
        "$$\n",
        "\\text{Vertical Hopping Terms:} \\qquad c^\\dag_{(i,j),\\sigma} c_{(i+1,j),\\sigma} + c^\\dag_{(i+1,j),\\sigma} c_{(i,j),\\sigma} \\mapsto \\frac{(-1)^{i+1}}{2} \\cdot \\begin{cases} \\left(X_{(i,j),\\sigma} Y_{(i+1,j), \\sigma} - Y_{(i,j),\\sigma} X_{(i+1,j),\\sigma} \\right) \\tilde{X}_{(i,j),\\sigma} \\tilde{Y}_{(i+1,j), \\sigma} & (j \\text{ is even}); \\\\\n",
        "\\left(X_{(i,j),\\sigma} Y_{(i+1,j), \\sigma} -  Y_{(i,j),\\sigma} X_{(i+1,j),\\sigma} \\right) \\tilde{Y}_{(i,j),\\sigma} \\tilde{X}_{(i+1,j), \\sigma}  & (j \\text{ is odd}). \\end{cases}\n",
        "$$\n",
        "where the $\\tilde{(\\cdot)}$ terms are Paulis acting on the auxiliary system."
      ]
    },
    {
      "cell_type": "markdown",
      "metadata": {
        "nteract": {
          "transient": {
            "deleting": false
          }
        }
      },
      "source": [
        "### Simulation\n",
        "\n",
        "Now that the Hamiltonian has been converted into $H = \\sum_k h_k$ where each $h_k$ is a Local Hamiltonian term, we can consider how to implement $e^{-iHT}$ using the fourth order Trotter-Suzuki product formula. For this, we simulate the evolution for small slices of time $\\Delta$ and repeating this for `nSteps` $= \\lceil T/\\Delta \\rceil$ to obtain the full time evolution. The Trotter-Suzuki formula for higher orders can be recursively defined using a *fractal decomposition* as discussed in Section 3 of [Hatanao and Suziki's survey](https://link.springer.com/chapter/10.1007/11526216_2). Then the fourth order formula $U_4(\\Delta)$ can be constructed using the second-order one $U_2(\\Delta)$ as follows.\n",
        "$$\n",
        "\\begin{aligned}\n",
        "U_2(\\Delta) & = e^{-iA\\Delta/2} e^{-iB\\Delta/2} e^{-iC\\Delta} e^{-iB\\Delta/2} e^{-iA\\Delta/2}; \\\\\n",
        "U_4(\\Delta) & = U_2(p\\Delta)U_2(p\\Delta)U_2((1 - 4p)\\Delta)U_2(p\\Delta)U_2(p\\Delta); \\\\\n",
        "p & = (4 - 4^{1/3})^{-1}.\n",
        "\\end{aligned}\n",
        "$$\n",
        "\n",
        "For the rest of the notebook, we will present the code that computes the time evolution in a step by step fashion."
      ]
    },
    {
      "cell_type": "markdown",
      "metadata": {
        "nteract": {
          "transient": {
            "deleting": false
          }
        }
      },
      "source": [
        "## Implementation\n",
        "\n",
        "### Helper functions"
      ]
    },
    {
      "cell_type": "markdown",
      "metadata": {
        "nteract": {
          "transient": {
            "deleting": false
          }
        }
      },
      "source": [
        "We will allocate all qubits in the 2D lattice in a one-dimensional array where every lattice point has 4 qubits ordered as $(u, u', d, d')$. Further we assume a snake-like order on the 2D lattice i.e., the ordering goes left-to-right on even rows and right-to-left on odd rows. The function `GetQubitIndex` converts a qubit identified by its 2D lattice point coordinates, `(row, col)`, its spin flag `f_spin` and auxiliary flag `f_aux` to an index in the qubit array. Note that `f_spin = True` for the down spin and `f_aux = True` for auxiliary qubits."
      ]
    },
    {
      "cell_type": "code",
      "execution_count": null,
      "metadata": {
        "jupyter": {
          "outputs_hidden": false,
          "source_hidden": false
        },
        "microsoft": {
          "language": "qsharp"
        },
        "nteract": {
          "transient": {
            "deleting": false
          }
        }
      },
      "outputs": [],
      "source": [
        "%%qsharp\n",
        "function GetQubitIndex(k : Int, l : Int, f_spin : Bool, f_aux : Bool, n : Int, m : Int) : Int {\n",
        "\n",
        "    let sshift = f_spin ? 2 | 0;\n",
        "    let ashift = f_aux ? 1 | 0;\n",
        "\n",
        "    return k % 2 == 0    //Check if row is even and return expression accordingly\n",
        "        ? 4*m*k + 4*l + ashift + sshift \n",
        "        | 4*m*k + 4*(m-l-1) + (ashift) + (sshift);\n",
        "}"
      ]
    },
    {
      "cell_type": "markdown",
      "metadata": {
        "nteract": {
          "transient": {
            "deleting": false
          }
        }
      },
      "source": [
        "Expanding $U_4(\\Delta)$ to express it in terms of $A, B, C$ gives:\n",
        "$$\n",
        "\\begin{aligned}\n",
        "U_4(\\Delta) & = e^{-iAp\\Delta/2} \\ T_1 \\ T_2 \\ T_1 \\ e^{-iAp\\Delta/2}, \\\\\n",
        "\\text{where } T_1 & = e^{-iBp\\Delta/2} e^{-iCp\\Delta} e^{-iBp\\Delta/2} e^{-iAp\\Delta} e^{-iBp\\Delta/2} e^{-iCp\\Delta} e^{-iBp\\Delta/2}, \\\\\n",
        "\\text{and } T_2 & = e^{-iA(1 - 3p)\\Delta/2} e^{-iB(1-4p)\\Delta/2} e^{-iC(1-4p)\\Delta} e^{-iB(1-4p)\\Delta/2} e^{-iA(1 - 3p)\\Delta/2}.\n",
        "\\end{aligned}\n",
        "$$\n",
        "\n",
        "The above equation has $21$ exponential terms and works for one time step. For `nSteps` $> 1$ time steps, some adjacent terms can be merged to give $20\\lceil T/\\Delta \\rceil+1$ exponential terms for time evolution $e^{-iHT}$.\n",
        "\n",
        "The function below sets the rotation angles used to apply the exponentials involving $A, B$ and $C$ in the formula above."
      ]
    },
    {
      "cell_type": "code",
      "execution_count": null,
      "metadata": {
        "jupyter": {
          "outputs_hidden": false,
          "source_hidden": false
        },
        "microsoft": {
          "language": "qsharp"
        },
        "nteract": {
          "transient": {
            "deleting": false
          }
        }
      },
      "outputs": [],
      "source": [
        "%%qsharp\n",
        "function SetAngleSequence(p : Double, hop_angle : Double, rep_angle : Double, dt : Double) : Double[] {\n",
        "    let len1 = 8;\n",
        "    let len2 = 4;\n",
        "    let valLength = 2*len1 + len2;\n",
        "\n",
        "    let val1 = -p*hop_angle*dt;\n",
        "    let val2 = -p*rep_angle*dt/2.0;\n",
        "    \n",
        "    let valB = -(1.0-4.0*p)*rep_angle*dt/2.0;\n",
        "    let valA = -(1.0-3.0*p)*hop_angle*dt/2.0;\n",
        "    let valC = -(1.0-4.0*p)*hop_angle*dt;\n",
        "\n",
        "    mutable values = [0.0, size=valLength];\n",
        "\n",
        "    // Angles bookending Term2\n",
        "    set values w/= len1 <- valA;\n",
        "    set values w/= len1+len2 <- valA;\n",
        "\n",
        "    for i in 0..len1-1 {\n",
        "        if (i%2 == 0) {\n",
        "            set values w/= i <- val1;\n",
        "        }\n",
        "        else {\n",
        "            set values w/= i <- val2;\n",
        "        }\n",
        "    }\n",
        "\n",
        "    for i in len1+1..len1+len2-1 {\n",
        "        if (i%2 == 0) {\n",
        "            set values w/= i <- valC;\n",
        "        }\n",
        "        else {\n",
        "            set values w/= i <- valB;\n",
        "        }\n",
        "    }\n",
        "\n",
        "    for i in len1+len2+1..valLength-1 {\n",
        "        if (i%2 == 0) {\n",
        "            set values w/= i <- val1;\n",
        "        }\n",
        "        else {\n",
        "            set values w/= i <- val2;\n",
        "        }\n",
        "    }\n",
        "\n",
        "    return values;\n",
        "\n",
        "}"
      ]
    },
    {
      "cell_type": "markdown",
      "metadata": {
        "nteract": {
          "transient": {
            "deleting": false
          }
        }
      },
      "source": [
        "### Quantum operations\n",
        "\n",
        "The first term we want to apply are the horizontal hops. For a given set of qubits and angle $\\theta$, the following operation applies the horizontal hop's evolution operator $e^{i(XZX+YZY)\\theta}$."
      ]
    },
    {
      "cell_type": "code",
      "execution_count": null,
      "metadata": {
        "jupyter": {
          "outputs_hidden": false,
          "source_hidden": false
        },
        "microsoft": {
          "language": "qsharp"
        },
        "nteract": {
          "transient": {
            "deleting": false
          }
        }
      },
      "outputs": [],
      "source": [
        "%%qsharp\n",
        "operation ApplyHorizontalTerm (qslice : Qubit[], theta : Double) : Unit {\n",
        "\n",
        "    let P_x = [PauliX, PauliZ, PauliX];\n",
        "    let P_y = [PauliY, PauliZ, PauliY];\n",
        "\n",
        "    Exp(P_x, theta, qslice);\n",
        "    Exp(P_y, theta, qslice);\n",
        "\n",
        "}"
      ]
    },
    {
      "cell_type": "markdown",
      "metadata": {
        "nteract": {
          "transient": {
            "deleting": false
          }
        }
      },
      "source": [
        "Observe that it is not possible to simultaneously apply all the rotations in one go. For example, while applying the rotation on the up spin qubits at $(0, 0)$ and $(0, 1)$, it is not possible to also apply the rotation on the up spin qubits $(0, 1)$ and $(0, 2)$. Instead, we try to apply as many rotations as possible while also giving consideration to some uniformity with respect to the spins. The operation is broken up as follows:\n",
        "- consider pairs where the first qubit is in an odd (resp. even) column as given by `grp`;\n",
        "- choose the spin up (resp. down) qubits in the array as chosen by `f_spin`,\n",
        "- apply the exponential to all such sets of qubits in the array."
      ]
    },
    {
      "cell_type": "code",
      "execution_count": null,
      "metadata": {
        "jupyter": {
          "outputs_hidden": false,
          "source_hidden": false
        },
        "microsoft": {
          "language": "qsharp"
        },
        "nteract": {
          "transient": {
            "deleting": false
          }
        }
      },
      "outputs": [],
      "source": [
        "%%qsharp\n",
        "operation ApplyHorizontalHops(n : Int, m : Int, g_num : Bool, f_spin : Bool, qs : Qubit[], theta : Double) : Unit {\n",
        "\n",
        "    let start = g_num ? 1 | 0; //Gives the group number for horizontal hop terms\n",
        "\n",
        "    for row in 0..n-1 { // for all rows\n",
        "        for col in start..2..m-2 { // for alternate columns\n",
        "            //Message($\"Creating Pauli expr for Hop terms ({row}, {col}) <--> ({row}, {col+1})\");\n",
        "\n",
        "            let aux_col = (row%2 == 0)? col | col+1;\n",
        "            let i1 = GetQubitIndex(row, col, f_spin, false, n, m);\n",
        "            let aux = GetQubitIndex(row, aux_col, f_spin, true, n, m);\n",
        "            let i2 = GetQubitIndex(row, col+1, f_spin, false, n, m);\n",
        "        \n",
        "            ApplyHorizontalTerm([qs[i1], qs[aux], qs[i2]], theta);\n",
        "\n",
        "        } //end for col\n",
        "    } //end for row    \n",
        "\n",
        "}"
      ]
    },
    {
      "cell_type": "code",
      "execution_count": null,
      "metadata": {
        "jupyter": {
          "outputs_hidden": false,
          "source_hidden": false
        },
        "nteract": {
          "transient": {
            "deleting": false
          }
        }
      },
      "outputs": [],
      "source": [
        "# TODO: Check if ExecuteHorizontalHops is needed."
      ]
    },
    {
      "cell_type": "markdown",
      "metadata": {
        "nteract": {
          "transient": {
            "deleting": false
          }
        }
      },
      "source": [
        "Next, we consider the vertical hopping terms. For a given set of qubits and angle $\\theta$, the following operation applies $e^{i (XXYY - YXXY) \\theta}$ for even columns and $e^{i (XYYX - YYXX) \\theta}$ for odd columns."
      ]
    },
    {
      "cell_type": "code",
      "execution_count": null,
      "metadata": {
        "jupyter": {
          "outputs_hidden": false,
          "source_hidden": false
        },
        "microsoft": {
          "language": "qsharp"
        },
        "nteract": {
          "transient": {
            "deleting": false
          }
        }
      },
      "outputs": [],
      "source": [
        "%%qsharp\n",
        "operation ApplyVerticalTerm(qslice : Qubit[], col : Int, angle : Double) : Unit {\n",
        "\n",
        "    let P_xxyy = [PauliX, PauliX, PauliY, PauliY];\n",
        "    let P_yxxy = [PauliY, PauliX, PauliX, PauliY];\n",
        "    let P_xyyx = [PauliX, PauliY, PauliY, PauliX];\n",
        "    let P_yyxx = [PauliY, PauliY, PauliX, PauliX];\n",
        "\n",
        "    if col%2 == 0 {\n",
        "        Exp(P_xxyy, angle, qslice);\n",
        "        Exp(P_yxxy, -angle, qslice);\n",
        "    }\n",
        "    else {\n",
        "        Exp(P_xyyx, angle, qslice);\n",
        "        Exp(P_yyxx, -angle, qslice);\n",
        "    }\n",
        "\n",
        "}"
      ]
    },
    {
      "cell_type": "markdown",
      "metadata": {
        "nteract": {
          "transient": {
            "deleting": false
          }
        }
      },
      "source": [
        "Like with the horizontal hops, it is not possible to simultaneously apply all the rotations in one go. For example, while applying the rotation on the up spin qubits at $(0, 0)$ and $(1, 0)$, it is not possible to also apply the rotation on the up spin qubits $(1, 0)$ and $(2, 0)$. The operation is accordingly broken up as follows:\n",
        "- consider pairs where the first qubit is in an odd (resp. even) *row* as given by `grp`;\n",
        "- choose the spin up (resp. down) qubits in the array as chosen by `f_spin`,\n",
        "- apply the exponential to all such sets of qubits in the array."
      ]
    },
    {
      "cell_type": "code",
      "execution_count": null,
      "metadata": {
        "jupyter": {
          "outputs_hidden": false,
          "source_hidden": false
        },
        "microsoft": {
          "language": "qsharp"
        },
        "nteract": {
          "transient": {
            "deleting": false
          }
        }
      },
      "outputs": [],
      "source": [
        "%%qsharp\n",
        "operation ApplyVerticalHops(row : Int, n : Int, m : Int, f_spin : Bool, qs : Qubit[], theta : Double, grp : Bool) : Unit { //  \n",
        "        \n",
        "    let start = grp ? 1 | 0;\n",
        "    for i in start..2..m-1 { // for each column // 0..m-1 { \n",
        "        let angle = i%2 == 0 ? theta | -theta;\n",
        "    \n",
        "        let i1_u = GetQubitIndex(row, i, f_spin, false, n, m);\n",
        "        let i1_ua = GetQubitIndex(row, i, f_spin, true, n, m);\n",
        "        let i2_u = GetQubitIndex(row+1, i, f_spin, false, n, m);\n",
        "        let i2_ua = GetQubitIndex(row+1, i, f_spin, true, n, m);\n",
        "\n",
        "        ApplyVerticalTerm([qs[i1_u], qs[i1_ua], qs[i2_u], qs[i2_ua]], i, angle);\n",
        "\n",
        "    } // end for i loop\n",
        "}"
      ]
    },
    {
      "cell_type": "code",
      "execution_count": null,
      "metadata": {
        "jupyter": {
          "outputs_hidden": false,
          "source_hidden": false
        },
        "nteract": {
          "transient": {
            "deleting": false
          }
        }
      },
      "outputs": [],
      "source": [
        "# TODO: Check if ExecuteVerticalHops is needed."
      ]
    },
    {
      "cell_type": "markdown",
      "metadata": {
        "nteract": {
          "transient": {
            "deleting": false
          }
        }
      },
      "source": [
        "Finally, there are two kinds of Pauli exponentials needed for applying the repulsion term for an angle $\\theta$:\n",
        "- an $e^{iZ\\theta}$ applied to each up and down spin qubit;\n",
        "- $e^{-i (Z \\otimes Z)\\theta}$ applied to pairs of $(u, d)$ qubits for each point in the lattice.\n",
        "\n",
        "The operation below applies $e^{iZ\\theta}$ on the up and down spin qubits."
      ]
    },
    {
      "cell_type": "code",
      "execution_count": null,
      "metadata": {
        "jupyter": {
          "outputs_hidden": false,
          "source_hidden": false
        },
        "microsoft": {
          "language": "qsharp"
        },
        "nteract": {
          "transient": {
            "deleting": false
          }
        }
      },
      "outputs": [],
      "source": [
        "%%qsharp\n",
        "operation ApplyZRot(n : Int, m : Int, qs : Qubit[], angle : Double) : Unit {\n",
        "\n",
        "    for row in 0..n-1 {\n",
        "        for col in 0..m-1 {\n",
        "            let up = GetQubitIndex(row, col, false, false, n, m);\n",
        "            let down = GetQubitIndex(row, col, true, false, n, m);\n",
        "\n",
        "            // Rz(θ, q) applies e^{-iZθ/2} to qubit q\n",
        "            Rz(-2.0*angle, qs[up]);\n",
        "            Rz(-2.0*angle, qs[down]);\n",
        "        }\n",
        "    }\n",
        "}"
      ]
    },
    {
      "cell_type": "markdown",
      "metadata": {
        "nteract": {
          "transient": {
            "deleting": false
          }
        }
      },
      "source": [
        "The next operation applies $e^{-i(ZZ)\\theta}$ for every $(u, d)$ pair of qubits."
      ]
    },
    {
      "cell_type": "code",
      "execution_count": null,
      "metadata": {
        "jupyter": {
          "outputs_hidden": false,
          "source_hidden": false
        },
        "microsoft": {
          "language": "qsharp"
        },
        "nteract": {
          "transient": {
            "deleting": false
          }
        }
      },
      "outputs": [],
      "source": [
        "%%qsharp\n",
        "operation ApplyZoZRot(n : Int, m : Int, qs : Qubit[], angle : Double) : Unit {\n",
        "\n",
        "    let P_op = [PauliZ, PauliZ];\n",
        "\n",
        "    for row in 0..n-1 {\n",
        "        for col in 0..m-1 {\n",
        "            let up = GetQubitIndex(row, col, false, false, n, m);\n",
        "            let down = GetQubitIndex(row, col, true, false, n, m);\n",
        "\n",
        "            Exp(P_op, angle, [qs[up], qs[down]]);\n",
        "\n",
        "        }\n",
        "    }\n",
        "}"
      ]
    },
    {
      "cell_type": "markdown",
      "metadata": {
        "nteract": {
          "transient": {
            "deleting": false
          }
        }
      },
      "source": [
        "The next operation puts everything together and calls the operations needed to\n",
        "simulate the Hubbard model Hamiltonian using a fourth order product formula.\n",
        "Observe that the operations `ApplyHorizontalHops` and `ApplyVerticalHops` are called four times for for different\n",
        "choices of direction and starting index to ensure all possible pairs of qubits are appropriately considered.\n",
        "\n",
        "The various parameters taken in by the operation correspond to:\n",
        "\n",
        "- `t, u`: parameters by which the Hamiltonian terms are scaled.\n",
        "- `n`, `m`: row and columns size of the lattice.\n",
        "- `totTime`: the total time for the Trotter simulation.\n",
        "- `dt` : the step size for the simulation, sometimes denoted as $\\Delta$."
      ]
    },
    {
      "cell_type": "code",
      "execution_count": null,
      "metadata": {
        "jupyter": {
          "outputs_hidden": false,
          "source_hidden": false
        },
        "microsoft": {
          "language": "qsharp"
        },
        "nteract": {
          "transient": {
            "deleting": false
          }
        }
      },
      "outputs": [],
      "source": [
        "%%qsharp\n",
        "open Microsoft.Quantum.Math;\n",
        "\n",
        "operation HubModel2DSim(n : Int, m : Int, t: Double, u : Double, totTime : Double, dt : Double) : Unit {\n",
        "\n",
        "    //Hubbard Hamiltonian: -t*Hopping terms + u*Repulsion Terms\n",
        "\n",
        "    //Represent a 2D array of qubits with 4 qubits per lattice point laid out as a 4n x m array\n",
        "    use qs = Qubit[4*n*m];\n",
        "\n",
        "    let p = 1.0/(4.0 - PowD(4.0, 1.0/3.0));\n",
        "\n",
        "    let tsteps = Ceiling(totTime/dt);\n",
        "\n",
        "    let seqLen = 20*tsteps+1;\n",
        "\n",
        "    // Calculate rotation angles\n",
        "    let hop_angle = -t/2.0;\n",
        "    let rep_angle = u/4.0;\n",
        "\n",
        "    let angSeq = SetAngleSequence(p, hop_angle, rep_angle, dt);\n",
        "\n",
        "    for i in 0..seqLen-1 {\n",
        "        let theta = (i==0 or i==seqLen-1) ? -p*hop_angle*dt/2.0 | angSeq[i%20]; \n",
        "\n",
        "        \n",
        "        if (i%4 == 0) { // A = Vertical Hops\n",
        "            for row in 0..n-2 {\n",
        "                for(f_spin, grp) in [(false, false), (false, true), (true, false), (true, true)] {\n",
        "                    ApplyVerticalHops(row, n, m, f_spin, qs, theta, grp);\n",
        "                }\n",
        "            }\n",
        "        }\n",
        "        elif (i%2 == 1) { // B = Repulsion Term\n",
        "            ApplyZRot(n, m, qs, theta);\n",
        "            ApplyZoZRot(n, m, qs, theta);\n",
        "        }\n",
        "        else { // C = Horizontal Hops\n",
        "            for(f_spin, grp) in [(false, false), (false, true), (true, false), (true, true)] {\n",
        "                ApplyHorizontalHops(n, m, grp, f_spin, qs, theta);\n",
        "            }\n",
        "        }\n",
        "    }\n",
        "\n",
        "    //Resetting qubits before release;\n",
        "    ResetAll(qs);\n",
        "\n",
        "}"
      ]
    },
    {
      "cell_type": "markdown",
      "metadata": {
        "nteract": {
          "transient": {
            "deleting": false
          }
        }
      },
      "source": [
        "## Running experiments\n",
        "\n",
        "Now, we can estimate the physical resource estimates to simulate the Heisenberg\n",
        "model Hamiltonian for a $20 \\times 20$ lattice with $t = u = 1.0$, total time\n",
        "$1000$, and step size $0.1$. As configurations for the \n",
        "experiment we use all six pre-defined qubit parameters.  As pre-defined QEC\n",
        "scheme we are using `surface_code` with gate-based qubit parameters (default),\n",
        "and `floquet_code` with Majorana based qubit parameters."
      ]
    },
    {
      "cell_type": "code",
      "execution_count": null,
      "metadata": {
        "jupyter": {
          "outputs_hidden": false,
          "source_hidden": false
        },
        "nteract": {
          "transient": {
            "deleting": false
          }
        }
      },
      "outputs": [],
      "source": [
        "estimator = MicrosoftEstimator(workspace)\n",
        "\n",
        "labels = [\"Gate-based μs, 10⁻3\", \"Gate-based μs, 10⁻⁴\", \"Gate-based ns, 10⁻3\", \"Gate-based ns, 10⁻⁴\", \"Majorana ns, 10⁻⁴\", \"Majorana ns, 10⁻6\"]\n",
        "\n",
        "params = estimator.make_params(num_items=6)\n",
        "params.arguments[\"n\"] = 20\n",
        "params.arguments[\"m\"] = 20\n",
        "params.arguments[\"t\"] = 1.0\n",
        "params.arguments[\"u\"] = 1.0\n",
        "params.arguments[\"totTime\"] = 1000.0\n",
        "params.arguments[\"dt\"] = 0.1\n",
        "params.items[0].qubit_params.name = QubitParams.GATE_US_E3\n",
        "params.items[1].qubit_params.name = QubitParams.GATE_US_E4\n",
        "params.items[2].qubit_params.name = QubitParams.GATE_NS_E3\n",
        "params.items[3].qubit_params.name = QubitParams.GATE_NS_E4\n",
        "params.items[4].qubit_params.name = QubitParams.MAJ_NS_E4\n",
        "params.items[4].qec_scheme.name = QECScheme.FLOQUET_CODE\n",
        "params.items[5].qubit_params.name = QubitParams.MAJ_NS_E6\n",
        "params.items[5].qec_scheme.name = QECScheme.FLOQUET_CODE"
      ]
    },
    {
      "cell_type": "markdown",
      "metadata": {
        "nteract": {
          "transient": {
            "deleting": false
          }
        }
      },
      "source": [
        "We submit a resource estimation job for all the target configurations."
      ]
    },
    {
      "cell_type": "code",
      "execution_count": null,
      "metadata": {
        "jupyter": {
          "outputs_hidden": false,
          "source_hidden": false
        },
        "nteract": {
          "transient": {
            "deleting": false
          }
        }
      },
      "outputs": [],
      "source": [
        "job = estimator.submit(HubModel2DSim, input_params=params)\n",
        "results = job.get_results()"
      ]
    },
    {
      "cell_type": "markdown",
      "metadata": {
        "nteract": {
          "transient": {
            "deleting": false
          }
        }
      },
      "source": [
        "## Visualizing and understanding the results\n",
        "\n",
        "### Result summary table"
      ]
    },
    {
      "cell_type": "code",
      "execution_count": null,
      "metadata": {
        "jupyter": {
          "outputs_hidden": false,
          "source_hidden": false
        },
        "nteract": {
          "transient": {
            "deleting": false
          }
        }
      },
      "outputs": [],
      "source": [
        "results.summary_data_frame(labels=labels)"
      ]
    },
    {
      "cell_type": "code",
      "execution_count": null,
      "metadata": {
        "jupyter": {
          "outputs_hidden": false,
          "source_hidden": false
        },
        "nteract": {
          "transient": {
            "deleting": false
          }
        }
      },
      "outputs": [],
      "source": [
        "results[4]"
      ]
    },
    {
      "cell_type": "markdown",
      "metadata": {
        "nteract": {
          "transient": {
            "deleting": false
          }
        }
      },
      "source": [
        "### Space chart\n",
        "\n",
        "The distribution of physical qubits used for the execution of the algorithm instructions and the supporting T factories can provide us valuable information to guide us in applying space and time optimizations. We can visualize this distribution for each set of qubit parameters to understand the differences in physical qubit distribution for each configuration.\n",
        "\n",
        "To show the space chart for a configuration from our experiment, use the following syntax:\n",
        "\n",
        "```\n",
        "    # Use the index of the desired configuration you want to visualize to get the results for that configuration.\n",
        "    \n",
        "    results[<item index>].diagram.space\n",
        "\n",
        "    # For example, this command will produce a chart showing the distribution of physical qubits for the Gate-based µs, 10⁻³ configuration set.\n",
        "    results[0].diagram.space \n",
        "```\n",
        "\n",
        "Below, let's visualize the space diagrams for one gate-based and one majorana based configuration."
      ]
    },
    {
      "cell_type": "markdown",
      "metadata": {
        "nteract": {
          "transient": {
            "deleting": false
          }
        }
      },
      "source": [
        "> You must run the `results[<item index>].diagram.space` command in a separate code cell per label.\n",
        ">\n",
        "> You cannot visualize the time and space diagrams in the same cell.\n",
        ">\n",
        "> If you run an algorithm which only has one configured set of qubit parameters and one result set, specifying the label would not be necessary. You could simply run `result.diagram.time`"
      ]
    },
    {
      "cell_type": "code",
      "execution_count": null,
      "metadata": {
        "jupyter": {
          "outputs_hidden": false,
          "source_hidden": false
        },
        "nteract": {
          "transient": {
            "deleting": false
          }
        }
      },
      "outputs": [],
      "source": [
        "# \"Gate-based ns, 10⁻³\"\n",
        "results[2].diagram.space"
      ]
    },
    {
      "cell_type": "code",
      "execution_count": null,
      "metadata": {
        "jupyter": {
          "outputs_hidden": false,
          "source_hidden": false
        },
        "nteract": {
          "transient": {
            "deleting": false
          }
        }
      },
      "outputs": [],
      "source": [
        "# \"Majorana ns, 10⁻4\"\n",
        "results[4].diagram.space"
      ]
    },
    {
      "cell_type": "markdown",
      "metadata": {
        "nteract": {
          "transient": {
            "deleting": false
          }
        }
      },
      "source": [
        "### Time chart\n",
        "We can also visualize the time required to execute the algorithm as it relates to each T factory invocation runtime and the number of T factory invocations.\n",
        "\n",
        "\n",
        "To show the time chart for a configuration from our experiment, use the following syntax:\n",
        "\n",
        "```\n",
        "    # Use the index of the desired configuration you want to visualize to get the results for that configuration.\n",
        "    \n",
        "    results[<item index>].diagram.time\n",
        "\n",
        "    # For example, this command will produce a chart showing the distribution of physical qubits for the Gate-based µs, 10⁻³ configuration set.\n",
        "    results[0].diagram.time\n",
        "```\n",
        "\n",
        "Below, let's visualize the space diagrams for one of the configurations."
      ]
    },
    {
      "cell_type": "markdown",
      "metadata": {
        "nteract": {
          "transient": {
            "deleting": false
          }
        }
      },
      "source": [
        "> You must run the `results[<item index>].diagram.time` command in a separate code cell per label.\n",
        ">\n",
        "> You cannot visualize the time and space diagrams in the same cell.\n",
        ">\n",
        "> If you run an algorithm which only has one configured set of qubit parameters and one result set, specifying the label would not be necessary. You could simply run `result.diagram.time`"
      ]
    },
    {
      "cell_type": "code",
      "execution_count": null,
      "metadata": {
        "jupyter": {
          "outputs_hidden": false,
          "source_hidden": false
        },
        "nteract": {
          "transient": {
            "deleting": false
          }
        }
      },
      "outputs": [],
      "source": [
        "# Feel free to try out different configuration sets by changing the index. \n",
        "# This example produces the time diagram for the Gate-based µs, 10⁻³ configuration set.\n",
        "results[2].diagram.time"
      ]
    },
    {
      "cell_type": "markdown",
      "metadata": {
        "nteract": {
          "transient": {
            "deleting": false
          }
        }
      },
      "source": [
        "### Limiting T factories\n",
        "\n",
        "There are other experiments that can be done by limiting the number of T factories used with `contraints.max_t_factories` or slowing down the algorithm by adding some factor of no-ops with `constraints.logical_depth_factor`. Try playing around with different choices for these constraints to see how they affect the resource estimates."
      ]
    },
    {
      "cell_type": "code",
      "execution_count": null,
      "metadata": {
        "jupyter": {
          "outputs_hidden": false,
          "source_hidden": false
        },
        "nteract": {
          "transient": {
            "deleting": false
          }
        }
      },
      "outputs": [],
      "source": [
        "params.constraints.max_t_factories = 55"
      ]
    },
    {
      "cell_type": "code",
      "execution_count": null,
      "metadata": {
        "jupyter": {
          "outputs_hidden": false,
          "source_hidden": false
        },
        "nteract": {
          "transient": {
            "deleting": false
          }
        }
      },
      "outputs": [],
      "source": [
        "job = estimator.submit(HubModel2DSim, input_params=params)\n",
        "results_limited = job.get_results()"
      ]
    },
    {
      "cell_type": "code",
      "execution_count": null,
      "metadata": {
        "jupyter": {
          "outputs_hidden": false,
          "source_hidden": false
        },
        "nteract": {
          "transient": {
            "deleting": false
          }
        }
      },
      "outputs": [],
      "source": [
        "results_limited.summary_data_frame(labels=labels)"
      ]
    },
    {
      "cell_type": "code",
      "execution_count": null,
      "metadata": {
        "jupyter": {
          "outputs_hidden": false,
          "source_hidden": false
        },
        "nteract": {
          "transient": {
            "deleting": false
          }
        }
      },
      "outputs": [],
      "source": [
        "results_limited[2].diagram.space"
      ]
    },
    {
      "cell_type": "code",
      "execution_count": null,
      "metadata": {
        "jupyter": {
          "outputs_hidden": false,
          "source_hidden": false
        },
        "nteract": {
          "transient": {
            "deleting": false
          }
        }
      },
      "outputs": [],
      "source": [
        "results_limited[4].diagram.space"
      ]
    },
    {
      "cell_type": "markdown",
      "metadata": {
        "nteract": {
          "transient": {
            "deleting": false
          }
        }
      },
      "source": [
        "## Next steps\n",
        "\n",
        "Feel free to use this table as a starting point for your own experiments.  For\n",
        "example, you can\n",
        "\n",
        "* explore how the results change by modifying the operation arguments of the Ising\n",
        "  model instance\n",
        "* explore space- and time-trade-offs by changing the value for\n",
        "  `logical_depth_factor` or `max_t_factories`\n",
        "* Visualize these trade-offs with the space and time diagrams\n",
        "* use other or customized qubit parameters"
      ]
    },
    {
      "cell_type": "code",
      "execution_count": null,
      "metadata": {
        "jupyter": {
          "outputs_hidden": false,
          "source_hidden": false
        },
        "nteract": {
          "transient": {
            "deleting": false
          }
        }
      },
      "outputs": [],
      "source": []
    }
  ],
  "metadata": {
    "kernel_info": {
      "name": "python3"
    },
    "kernelspec": {
      "display_name": "Python 3 (ipykernel)",
      "language": "python",
      "name": "python3"
    },
    "language_info": {
      "codemirror_mode": {
        "name": "ipython",
        "version": 3
      },
      "file_extension": ".py",
      "mimetype": "text/x-python",
      "name": "python",
      "nbconvert_exporter": "python",
      "pygments_lexer": "ipython3",
      "version": "3.9.18"
    },
    "nteract": {
      "version": "nteract-front-end@1.0.0"
    }
  },
  "nbformat": 4,
  "nbformat_minor": 0
}
